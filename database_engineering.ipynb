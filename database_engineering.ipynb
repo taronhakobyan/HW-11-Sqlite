{
 "cells": [
  {
   "cell_type": "code",
   "execution_count": 56,
   "metadata": {
    "collapsed": true
   },
   "outputs": [],
   "source": [
    "import sqlalchemy\n",
    "import pandas as pd\n",
    "from sqlalchemy import create_engine, MetaData\n",
    "from sqlalchemy.ext.declarative import declarative_base\n",
    "from sqlalchemy import Column, Integer, String, Numeric, Text, Float, DateTime"
   ]
  },
  {
   "cell_type": "code",
   "execution_count": 57,
   "metadata": {
    "collapsed": true
   },
   "outputs": [],
   "source": [
    "engine = create_engine(\"sqlite:///hawaii.sqlite\")"
   ]
  },
  {
   "cell_type": "code",
   "execution_count": 58,
   "metadata": {
    "collapsed": true
   },
   "outputs": [],
   "source": [
    "conn = engine.connect()"
   ]
  },
  {
   "cell_type": "code",
   "execution_count": 59,
   "metadata": {
    "collapsed": true
   },
   "outputs": [],
   "source": [
    "Base = declarative_base()"
   ]
  },
  {
   "cell_type": "code",
   "execution_count": 60,
   "metadata": {
    "collapsed": true
   },
   "outputs": [],
   "source": [
    "class Data(Base):\n",
    "    __tablename__ = 'hawaii_data'\n",
    "    id = Column(Integer, primary_key=True)\n",
    "    station = Column(String)\n",
    "    name = Column(String)\n",
    "    latitude = Column(Float)\n",
    "    longitude = Column(Float)\n",
    "    elevation = Column(Integer)\n",
    "    prcp = Column(Float)\n",
    "    tobs = Column(Integer)\n",
    "    month = Column(Integer)\n",
    "    day = Column(Integer)\n",
    "    year = Column(Integer)\n",
    "    date_format = Column(DateTime)\n",
    "    \n",
    "    def __repr__(self):\n",
    "        return f\"id={self.id}, name={self.name}\""
   ]
  },
  {
   "cell_type": "code",
   "execution_count": 61,
   "metadata": {
    "collapsed": true
   },
   "outputs": [],
   "source": [
    "Base.metadata.create_all(engine)"
   ]
  },
  {
   "cell_type": "code",
   "execution_count": 62,
   "metadata": {},
   "outputs": [
    {
     "data": {
      "text/html": [
       "<div>\n",
       "<style>\n",
       "    .dataframe thead tr:only-child th {\n",
       "        text-align: right;\n",
       "    }\n",
       "\n",
       "    .dataframe thead th {\n",
       "        text-align: left;\n",
       "    }\n",
       "\n",
       "    .dataframe tbody tr th {\n",
       "        vertical-align: top;\n",
       "    }\n",
       "</style>\n",
       "<table border=\"1\" class=\"dataframe\">\n",
       "  <thead>\n",
       "    <tr style=\"text-align: right;\">\n",
       "      <th></th>\n",
       "      <th>station</th>\n",
       "      <th>name</th>\n",
       "      <th>latitude</th>\n",
       "      <th>longitude</th>\n",
       "      <th>elevation</th>\n",
       "      <th>prcp</th>\n",
       "      <th>tobs</th>\n",
       "      <th>month</th>\n",
       "      <th>day</th>\n",
       "      <th>year</th>\n",
       "      <th>date_format</th>\n",
       "    </tr>\n",
       "  </thead>\n",
       "  <tbody>\n",
       "    <tr>\n",
       "      <th>0</th>\n",
       "      <td>USC00519397</td>\n",
       "      <td>WAIKIKI 717.2, HI US</td>\n",
       "      <td>21.2716</td>\n",
       "      <td>-157.8168</td>\n",
       "      <td>3.0</td>\n",
       "      <td>0.080000</td>\n",
       "      <td>65</td>\n",
       "      <td>1</td>\n",
       "      <td>1</td>\n",
       "      <td>2010</td>\n",
       "      <td>2010-01-01</td>\n",
       "    </tr>\n",
       "    <tr>\n",
       "      <th>1</th>\n",
       "      <td>USC00519397</td>\n",
       "      <td>WAIKIKI 717.2, HI US</td>\n",
       "      <td>21.2716</td>\n",
       "      <td>-157.8168</td>\n",
       "      <td>3.0</td>\n",
       "      <td>0.000000</td>\n",
       "      <td>63</td>\n",
       "      <td>1</td>\n",
       "      <td>2</td>\n",
       "      <td>2010</td>\n",
       "      <td>2010-01-02</td>\n",
       "    </tr>\n",
       "    <tr>\n",
       "      <th>2</th>\n",
       "      <td>USC00519397</td>\n",
       "      <td>WAIKIKI 717.2, HI US</td>\n",
       "      <td>21.2716</td>\n",
       "      <td>-157.8168</td>\n",
       "      <td>3.0</td>\n",
       "      <td>0.000000</td>\n",
       "      <td>74</td>\n",
       "      <td>1</td>\n",
       "      <td>3</td>\n",
       "      <td>2010</td>\n",
       "      <td>2010-01-03</td>\n",
       "    </tr>\n",
       "    <tr>\n",
       "      <th>3</th>\n",
       "      <td>USC00519397</td>\n",
       "      <td>WAIKIKI 717.2, HI US</td>\n",
       "      <td>21.2716</td>\n",
       "      <td>-157.8168</td>\n",
       "      <td>3.0</td>\n",
       "      <td>0.000000</td>\n",
       "      <td>76</td>\n",
       "      <td>1</td>\n",
       "      <td>4</td>\n",
       "      <td>2010</td>\n",
       "      <td>2010-01-04</td>\n",
       "    </tr>\n",
       "    <tr>\n",
       "      <th>4</th>\n",
       "      <td>USC00519397</td>\n",
       "      <td>WAIKIKI 717.2, HI US</td>\n",
       "      <td>21.2716</td>\n",
       "      <td>-157.8168</td>\n",
       "      <td>3.0</td>\n",
       "      <td>0.040086</td>\n",
       "      <td>73</td>\n",
       "      <td>1</td>\n",
       "      <td>6</td>\n",
       "      <td>2010</td>\n",
       "      <td>2010-01-06</td>\n",
       "    </tr>\n",
       "  </tbody>\n",
       "</table>\n",
       "</div>"
      ],
      "text/plain": [
       "       station                  name  latitude  longitude  elevation  \\\n",
       "0  USC00519397  WAIKIKI 717.2, HI US   21.2716  -157.8168        3.0   \n",
       "1  USC00519397  WAIKIKI 717.2, HI US   21.2716  -157.8168        3.0   \n",
       "2  USC00519397  WAIKIKI 717.2, HI US   21.2716  -157.8168        3.0   \n",
       "3  USC00519397  WAIKIKI 717.2, HI US   21.2716  -157.8168        3.0   \n",
       "4  USC00519397  WAIKIKI 717.2, HI US   21.2716  -157.8168        3.0   \n",
       "\n",
       "       prcp  tobs  month  day  year date_format  \n",
       "0  0.080000    65      1    1  2010  2010-01-01  \n",
       "1  0.000000    63      1    2  2010  2010-01-02  \n",
       "2  0.000000    74      1    3  2010  2010-01-03  \n",
       "3  0.000000    76      1    4  2010  2010-01-04  \n",
       "4  0.040086    73      1    6  2010  2010-01-06  "
      ]
     },
     "execution_count": 62,
     "metadata": {},
     "output_type": "execute_result"
    }
   ],
   "source": [
    "df_=pd.read_csv('clean_datafile.csv', parse_dates=['date_format'])\n",
    "df_.head()"
   ]
  },
  {
   "cell_type": "code",
   "execution_count": 63,
   "metadata": {},
   "outputs": [
    {
     "name": "stdout",
     "output_type": "stream",
     "text": [
      "<class 'pandas.core.frame.DataFrame'>\n",
      "RangeIndex: 19550 entries, 0 to 19549\n",
      "Data columns (total 11 columns):\n",
      "station        19550 non-null object\n",
      "name           19550 non-null object\n",
      "latitude       19550 non-null float64\n",
      "longitude      19550 non-null float64\n",
      "elevation      19550 non-null float64\n",
      "prcp           19550 non-null float64\n",
      "tobs           19550 non-null int64\n",
      "month          19550 non-null int64\n",
      "day            19550 non-null int64\n",
      "year           19550 non-null int64\n",
      "date_format    19550 non-null datetime64[ns]\n",
      "dtypes: datetime64[ns](1), float64(4), int64(4), object(2)\n",
      "memory usage: 1.6+ MB\n"
     ]
    }
   ],
   "source": [
    "df_.info()"
   ]
  },
  {
   "cell_type": "code",
   "execution_count": 64,
   "metadata": {
    "collapsed": true
   },
   "outputs": [],
   "source": [
    "df_['date_format'] = pd.to_datetime(df_['date_format'])"
   ]
  },
  {
   "cell_type": "code",
   "execution_count": 65,
   "metadata": {},
   "outputs": [
    {
     "name": "stdout",
     "output_type": "stream",
     "text": [
      "<class 'pandas.core.frame.DataFrame'>\n",
      "RangeIndex: 19550 entries, 0 to 19549\n",
      "Data columns (total 11 columns):\n",
      "station        19550 non-null object\n",
      "name           19550 non-null object\n",
      "latitude       19550 non-null float64\n",
      "longitude      19550 non-null float64\n",
      "elevation      19550 non-null float64\n",
      "prcp           19550 non-null float64\n",
      "tobs           19550 non-null int64\n",
      "month          19550 non-null int64\n",
      "day            19550 non-null int64\n",
      "year           19550 non-null int64\n",
      "date_format    19550 non-null datetime64[ns]\n",
      "dtypes: datetime64[ns](1), float64(4), int64(4), object(2)\n",
      "memory usage: 1.6+ MB\n"
     ]
    }
   ],
   "source": [
    "df_.info()"
   ]
  },
  {
   "cell_type": "code",
   "execution_count": 66,
   "metadata": {
    "collapsed": true
   },
   "outputs": [],
   "source": [
    "df_dict = df_.to_dict(orient='records')"
   ]
  },
  {
   "cell_type": "code",
   "execution_count": 67,
   "metadata": {},
   "outputs": [
    {
     "data": {
      "text/plain": [
       "[{'date_format': Timestamp('2010-01-01 00:00:00'),\n",
       "  'day': 1,\n",
       "  'elevation': 3.0,\n",
       "  'latitude': 21.2716,\n",
       "  'longitude': -157.8168,\n",
       "  'month': 1,\n",
       "  'name': 'WAIKIKI 717.2, HI US',\n",
       "  'prcp': 0.08,\n",
       "  'station': 'USC00519397',\n",
       "  'tobs': 65,\n",
       "  'year': 2010},\n",
       " {'date_format': Timestamp('2010-01-02 00:00:00'),\n",
       "  'day': 2,\n",
       "  'elevation': 3.0,\n",
       "  'latitude': 21.2716,\n",
       "  'longitude': -157.8168,\n",
       "  'month': 1,\n",
       "  'name': 'WAIKIKI 717.2, HI US',\n",
       "  'prcp': 0.0,\n",
       "  'station': 'USC00519397',\n",
       "  'tobs': 63,\n",
       "  'year': 2010},\n",
       " {'date_format': Timestamp('2010-01-03 00:00:00'),\n",
       "  'day': 3,\n",
       "  'elevation': 3.0,\n",
       "  'latitude': 21.2716,\n",
       "  'longitude': -157.8168,\n",
       "  'month': 1,\n",
       "  'name': 'WAIKIKI 717.2, HI US',\n",
       "  'prcp': 0.0,\n",
       "  'station': 'USC00519397',\n",
       "  'tobs': 74,\n",
       "  'year': 2010},\n",
       " {'date_format': Timestamp('2010-01-04 00:00:00'),\n",
       "  'day': 4,\n",
       "  'elevation': 3.0,\n",
       "  'latitude': 21.2716,\n",
       "  'longitude': -157.8168,\n",
       "  'month': 1,\n",
       "  'name': 'WAIKIKI 717.2, HI US',\n",
       "  'prcp': 0.0,\n",
       "  'station': 'USC00519397',\n",
       "  'tobs': 76,\n",
       "  'year': 2010},\n",
       " {'date_format': Timestamp('2010-01-06 00:00:00'),\n",
       "  'day': 6,\n",
       "  'elevation': 3.0,\n",
       "  'latitude': 21.2716,\n",
       "  'longitude': -157.8168,\n",
       "  'month': 1,\n",
       "  'name': 'WAIKIKI 717.2, HI US',\n",
       "  'prcp': 0.040085836909871206,\n",
       "  'station': 'USC00519397',\n",
       "  'tobs': 73,\n",
       "  'year': 2010}]"
      ]
     },
     "execution_count": 67,
     "metadata": {},
     "output_type": "execute_result"
    }
   ],
   "source": [
    "df_dict[:5]"
   ]
  },
  {
   "cell_type": "code",
   "execution_count": 68,
   "metadata": {
    "collapsed": true
   },
   "outputs": [],
   "source": [
    "metadata = MetaData(bind = engine)\n",
    "metadata.reflect()"
   ]
  },
  {
   "cell_type": "code",
   "execution_count": 69,
   "metadata": {
    "collapsed": true
   },
   "outputs": [],
   "source": [
    "table = sqlalchemy.Table('hawaii_data', metadata, autoload=True) "
   ]
  },
  {
   "cell_type": "code",
   "execution_count": 70,
   "metadata": {},
   "outputs": [
    {
     "data": {
      "text/plain": [
       "<sqlalchemy.engine.result.ResultProxy at 0x2034d021080>"
      ]
     },
     "execution_count": 70,
     "metadata": {},
     "output_type": "execute_result"
    }
   ],
   "source": [
    "conn.execute(table.delete())"
   ]
  },
  {
   "cell_type": "code",
   "execution_count": 71,
   "metadata": {},
   "outputs": [
    {
     "data": {
      "text/plain": [
       "<sqlalchemy.engine.result.ResultProxy at 0x2034e910fd0>"
      ]
     },
     "execution_count": 71,
     "metadata": {},
     "output_type": "execute_result"
    }
   ],
   "source": [
    "conn.execute(table.insert(), df_dict)"
   ]
  },
  {
   "cell_type": "code",
   "execution_count": 72,
   "metadata": {},
   "outputs": [
    {
     "data": {
      "text/plain": [
       "[(1.06,)]"
      ]
     },
     "execution_count": 72,
     "metadata": {},
     "output_type": "execute_result"
    }
   ],
   "source": [
    "conn.execute(\"select SUM(prcp) from hawaii_data WHERE (date_format BETWEEN '2010-01-01' AND '2010-01-02')\").fetchall()\n",
    "#https://stackoverflow.com/questions/1469689/select-mysql-query-between-date"
   ]
  },
  {
   "cell_type": "code",
   "execution_count": 73,
   "metadata": {},
   "outputs": [
    {
     "data": {
      "text/plain": [
       "[(1, 'USC00519397', 'WAIKIKI 717.2, HI US', 21.2716, -157.8168, 3, 0.08, 65, 1, 1, 2010, '2010-01-01 00:00:00.000000'),\n",
       " (2725, 'USC00513117', 'KANEOHE 838.1, HI US', 21.4234, -157.8015, 14.6, 0.28, 67, 1, 1, 2010, '2010-01-01 00:00:00.000000'),\n",
       " (9008, 'USC00518838', 'UPPER WAHIAWA 874.3, HI US', 21.4992, -158.0111, 306.6, 0.21, 72, 1, 1, 2010, '2010-01-01 00:00:00.000000'),\n",
       " (9519, 'USC00519523', 'WAIMANALO EXPERIMENTAL FARM, HI US', 21.33556, -157.71139, 19.5, 0.15, 75, 1, 1, 2010, '2010-01-01 00:00:00.000000'),\n",
       " (12188, 'USC00519281', 'WAIHEE 837.5, HI US', 21.45167, -157.84888999999995, 32.9, 0.15, 70, 1, 1, 2010, '2010-01-01 00:00:00.000000'),\n",
       " (14960, 'USC00511918', 'HONOLULU OBSERVATORY 702.2, HI US', 21.3152, -157.9992, 0.9, 0.05, 66, 1, 1, 2010, '2010-01-01 00:00:00.000000'),\n",
       " (16939, 'USC00516128', 'MANOA LYON ARBO 785.2, HI US', 21.3331, -157.8025, 152.4, 0.14, 73, 1, 1, 2010, '2010-01-01 00:00:00.000000')]"
      ]
     },
     "execution_count": 73,
     "metadata": {},
     "output_type": "execute_result"
    }
   ],
   "source": [
    "conn.execute(\"select * from hawaii_data WHERE (date_format BETWEEN '2010-01-01' AND '2010-01-02')\").fetchall()"
   ]
  },
  {
   "cell_type": "code",
   "execution_count": 74,
   "metadata": {},
   "outputs": [
    {
     "data": {
      "text/plain": [
       "1.06"
      ]
     },
     "execution_count": 74,
     "metadata": {},
     "output_type": "execute_result"
    }
   ],
   "source": [
    "0.08 + 0.28 + 0.21 + 0.15 + 0.15 + 0.05 + 0.14"
   ]
  },
  {
   "cell_type": "code",
   "execution_count": null,
   "metadata": {
    "collapsed": true
   },
   "outputs": [],
   "source": []
  }
 ],
 "metadata": {
  "kernelspec": {
   "display_name": "Python 3",
   "language": "python",
   "name": "python3"
  },
  "language_info": {
   "codemirror_mode": {
    "name": "ipython",
    "version": 3
   },
   "file_extension": ".py",
   "mimetype": "text/x-python",
   "name": "python",
   "nbconvert_exporter": "python",
   "pygments_lexer": "ipython3",
   "version": "3.6.3"
  }
 },
 "nbformat": 4,
 "nbformat_minor": 2
}
